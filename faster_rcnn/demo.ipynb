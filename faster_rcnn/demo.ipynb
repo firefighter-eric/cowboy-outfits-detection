{
 "cells": [
  {
   "cell_type": "code",
   "execution_count": null,
   "metadata": {
    "collapsed": true
   },
   "outputs": [],
   "source": [
    "import json\n",
    "\n",
    "import torch\n",
    "from tqdm import tqdm\n",
    "\n",
    "import modeling\n",
    "from coco_eval import coco_eval\n",
    "from data_process import CocoDataLoader\n",
    "from evaluate import Pipeline, preds2coco_eval_result\n",
    "from train import Trainer"
   ]
  },
  {
   "cell_type": "code",
   "execution_count": null,
   "outputs": [],
   "source": [
    "class Args:\n",
    "    num_epochs = 10\n",
    "    device = 'cuda:0'\n",
    "    model_name = 'm24'\n",
    "    best_epoch = 0\n",
    "    lr = 0.005\n",
    "    momentum = 0.9\n",
    "    weight_decay = 0.01\n",
    "\n",
    "    model_out = f'../models/faster_rcnn/{model_name}'\n",
    "    log_dir = f'../runs/faster_rcnn/{model_name}'\n",
    "\n",
    "    best_model_path = f'{model_out}/e{best_epoch}.pt'\n",
    "    outfile_name = f'faster_rcnn_{model_name}e{best_epoch}.json'\n",
    "    eval_coco_path = f'../outputs/eval/coco_results/{outfile_name}'\n",
    "    coco_result_path = f'../outputs/coco_results/{outfile_name}'"
   ],
   "metadata": {
    "collapsed": false,
    "pycharm": {
     "name": "#%%\n"
    }
   }
  },
  {
   "cell_type": "code",
   "execution_count": null,
   "outputs": [],
   "source": [
    "args = Args()\n",
    "\n",
    "cdl = CocoDataLoader()\n",
    "train_data = cdl.train_95\n",
    "dev_data = cdl.dev_05\n",
    "\n",
    "model = modeling.get_fasterrcnn_resnet50_model(num_classes=6)\n",
    "\n",
    "params = [p for p in model.parameters() if p.requires_grad]\n",
    "optimizer = torch.optim.SGD(params, lr=args.lr, momentum=args.momentum, weight_decay=args.weight_decay)\n",
    "\n",
    "trainer = Trainer(args=args,\n",
    "                  model=model,\n",
    "                  optimizer=optimizer,\n",
    "                  train_data=train_data,\n",
    "                  dev_data=dev_data)\n",
    "trainer.train()"
   ],
   "metadata": {
    "collapsed": false,
    "pycharm": {
     "name": "#%%\n"
    }
   }
  },
  {
   "cell_type": "code",
   "execution_count": null,
   "outputs": [],
   "source": [
    "pipeline = Pipeline(args.best_model_path, args.device)\n",
    "\n",
    "cdl = CocoDataLoader()\n",
    "test_data = cdl.test_all\n",
    "idx2str = cdl.idx2str\n",
    "idx2label = cdl.idx2label\n",
    "\n",
    "preds = []\n",
    "image_ids = []\n",
    "\n",
    "for batched_imgs, batched_targets in tqdm(test_data):\n",
    "    batched_preds = pipeline(batched_imgs)\n",
    "\n",
    "    preds += batched_preds\n",
    "    image_ids += [_[0]['image_id'] for _ in batched_targets]\n",
    "\n",
    "coco_result = preds2coco_eval_result(preds, image_ids, idx2label)\n",
    "\n",
    "with open(args.eval_coco_path, 'w') as fout:\n",
    "    json.dump(coco_result, fout)\n",
    "\n",
    "ce = coco_eval(args.eval_coco_path)"
   ],
   "metadata": {
    "collapsed": false,
    "pycharm": {
     "name": "#%%\n"
    }
   }
  }
 ],
 "metadata": {
  "kernelspec": {
   "display_name": "Python 3",
   "language": "python",
   "name": "python3"
  },
  "language_info": {
   "codemirror_mode": {
    "name": "ipython",
    "version": 2
   },
   "file_extension": ".py",
   "mimetype": "text/x-python",
   "name": "python",
   "nbconvert_exporter": "python",
   "pygments_lexer": "ipython2",
   "version": "2.7.6"
  }
 },
 "nbformat": 4,
 "nbformat_minor": 0
}