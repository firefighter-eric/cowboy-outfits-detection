{
 "metadata": {
  "language_info": {
   "codemirror_mode": {
    "name": "ipython",
    "version": 3
   },
   "file_extension": ".py",
   "mimetype": "text/x-python",
   "name": "python",
   "nbconvert_exporter": "python",
   "pygments_lexer": "ipython3",
   "version": "3.8.8"
  },
  "orig_nbformat": 4,
  "kernelspec": {
   "name": "python3",
   "display_name": "Python 3.8.8 64-bit ('tf24': conda)"
  },
  "interpreter": {
   "hash": "920cbf93e59d3f08062ffddba2de6fef403528da7bc8008b838aa14c8834cf55"
  }
 },
 "nbformat": 4,
 "nbformat_minor": 2,
 "cells": [
  {
   "cell_type": "code",
   "execution_count": 1,
   "metadata": {},
   "outputs": [],
   "source": [
    "import cv2\n",
    "import random\n",
    "import torch\n",
    "import torchvision\n",
    "\n",
    "from torch.utils.data import Dataset\n",
    "from torchvision import datasets\n",
    "from torchvision.transforms import ToTensor\n",
    "\n",
    "from torchvision.transforms import functional as F\n"
   ]
  },
  {
   "cell_type": "code",
   "execution_count": 2,
   "metadata": {},
   "outputs": [
    {
     "output_type": "stream",
     "name": "stdout",
     "text": [
      "loading annotations into memory...\nDone (t=0.04s)\ncreating index...\nindex created!\n"
     ]
    }
   ],
   "source": [
    "root_path = \"data/images\"\n",
    "ann_path = 'data/train.json'\n",
    "\n",
    "coco_data = datasets.CocoDetection(\n",
    "    root=root_path, annFile=ann_path, transform=ToTensor()\n",
    ")"
   ]
  },
  {
   "cell_type": "code",
   "execution_count": 3,
   "metadata": {},
   "outputs": [
    {
     "output_type": "stream",
     "name": "stdout",
     "text": [
      "Dataset CocoDetection\n    Number of datapoints: 3062\n    Root location: data/images\n    StandardTransform\nTransform: ToTensor()\n"
     ]
    }
   ],
   "source": [
    "print(coco_data)"
   ]
  },
  {
   "cell_type": "code",
   "execution_count": 4,
   "metadata": {},
   "outputs": [],
   "source": [
    "# 定义 coco collate_fn\n",
    "def collate_fn_coco(batch):\n",
    "    return tuple(zip(*batch))\n",
    " \n",
    "# 创建 Coco sampler\n",
    "sampler = torch.utils.data.RandomSampler(coco_data)\n",
    "batch_sampler = torch.utils.data.BatchSampler(sampler, 8, drop_last=True)\n",
    " \n",
    "# 创建 dataloader\n",
    "data_loader = torch.utils.data.DataLoader(\n",
    "        coco_data, batch_sampler=batch_sampler, num_workers=0,\n",
    "        collate_fn=collate_fn_coco)"
   ]
  },
  {
   "cell_type": "code",
   "execution_count": 5,
   "metadata": {
    "tags": []
   },
   "outputs": [
    {
     "output_type": "stream",
     "name": "stdout",
     "text": [
      "([{'id': 1806964, 'image_id': 2035113034939761644, 'freebase_id': '/m/017ftj', 'category_id': 1034, 'iscrowd': False, 'bbox': [313.82, 133.76, 117.2, 46.08], 'area': 5400.67}, {'id': 1806966, 'image_id': 2035113034939761644, 'freebase_id': '/m/017ftj', 'category_id': 1034, 'iscrowd': False, 'bbox': [19.21, 495.36, 64.69, 21.12], 'area': 1366.15}], [{'id': 12795219, 'image_id': 15836214784034702860, 'freebase_id': '/m/017ftj', 'category_id': 1034, 'iscrowd': False, 'bbox': [181.76, 201.05, 84.48, 45.46], 'area': 3840.58}, {'id': 12795220, 'image_id': 15836214784034702860, 'freebase_id': '/m/017ftj', 'category_id': 1034, 'iscrowd': False, 'bbox': [477.44, 227.31, 75.52, 37.78], 'area': 2852.95}], [{'id': 6761468, 'image_id': 8221645124523689302, 'freebase_id': '/m/017ftj', 'category_id': 1034, 'iscrowd': False, 'bbox': [452.8, 360.8, 215.2, 76.8], 'area': 16527.42}], [{'id': 6167529, 'image_id': 7485452361317156152, 'freebase_id': '/m/017ftj', 'category_id': 1034, 'iscrowd': False, 'bbox': [294.55, 210.56, 147.28, 62.72], 'area': 9237.23}], [{'id': 8568983, 'image_id': 10507416554822796889, 'freebase_id': '/m/017ftj', 'category_id': 1034, 'iscrowd': False, 'bbox': [261.41, 220.16, 69.2, 72.96], 'area': 5048.65}, {'id': 8568984, 'image_id': 10507416554822796889, 'freebase_id': '/m/017ftj', 'category_id': 1034, 'iscrowd': False, 'bbox': [569.59, 300.16, 109.56, 55.04], 'area': 6030.26}], [{'id': 3957574, 'image_id': 4710435352531437640, 'freebase_id': '/m/017ftj', 'category_id': 1034, 'iscrowd': False, 'bbox': [472.32, 245.12, 95.36, 30.08], 'area': 2868.38}, {'id': 3957575, 'image_id': 4710435352531437640, 'freebase_id': '/m/017ftj', 'category_id': 1034, 'iscrowd': False, 'bbox': [744.32, 240.64, 28.8, 10.88], 'area': 313.35}], [{'id': 7588002, 'image_id': 9260604153584550085, 'freebase_id': '/m/017ftj', 'category_id': 1034, 'iscrowd': False, 'bbox': [25.6, 695.04, 94.72, 24.32], 'area': 2303.61}, {'id': 7588003, 'image_id': 9260604153584550085, 'freebase_id': '/m/017ftj', 'category_id': 1034, 'iscrowd': False, 'bbox': [166.4, 609.28, 57.6, 15.36], 'area': 884.74}], [{'id': 12913800, 'image_id': 15984033263460081658, 'freebase_id': '/m/01b638', 'category_id': 131, 'iscrowd': False, 'bbox': [272.0, 28.8, 351.2, 612.0], 'area': 214934.0}])\n"
     ]
    },
    {
     "output_type": "error",
     "ename": "KeyboardInterrupt",
     "evalue": "",
     "traceback": [
      "\u001b[1;31m---------------------------------------------------------------------------\u001b[0m",
      "\u001b[1;31mKeyboardInterrupt\u001b[0m                         Traceback (most recent call last)",
      "\u001b[1;32m<ipython-input-5-14ef42fb0c4c>\u001b[0m in \u001b[0;36m<module>\u001b[1;34m\u001b[0m\n\u001b[0;32m     29\u001b[0m                thickness=2, lineType=cv2.LINE_AA, color=(0, 255, 0))\n\u001b[0;32m     30\u001b[0m        \u001b[0mcv2\u001b[0m\u001b[1;33m.\u001b[0m\u001b[0mimshow\u001b[0m\u001b[1;33m(\u001b[0m\u001b[1;34m'test'\u001b[0m\u001b[1;33m,\u001b[0m\u001b[0mimg\u001b[0m\u001b[1;33m)\u001b[0m\u001b[1;33m\u001b[0m\u001b[1;33m\u001b[0m\u001b[0m\n\u001b[1;32m---> 31\u001b[1;33m        \u001b[0mcv2\u001b[0m\u001b[1;33m.\u001b[0m\u001b[0mwaitKey\u001b[0m\u001b[1;33m(\u001b[0m\u001b[1;33m)\u001b[0m\u001b[1;33m\u001b[0m\u001b[1;33m\u001b[0m\u001b[0m\n\u001b[0m",
      "\u001b[1;31mKeyboardInterrupt\u001b[0m: "
     ]
    }
   ],
   "source": [
    "\n",
    " font = cv2.FONT_HERSHEY_SIMPLEX\n",
    "\n",
    "\n",
    "# 可视化\n",
    "for imgs,labels in data_loader:\n",
    "    print(labels)\n",
    "    for i in range(len(imgs)):\n",
    "        bboxes = []\n",
    "        ids = []\n",
    "        img = imgs[i]\n",
    "        labels_ = labels[i]\n",
    "        for label in labels_:\n",
    "            bboxes.append([label['bbox'][0],\n",
    "            label['bbox'][1],\n",
    "            label['bbox'][0] + label['bbox'][2],\n",
    "            label['bbox'][1] + label['bbox'][3]\n",
    "            ])\n",
    "            ids.append(label['category_id'])\n",
    " \n",
    "        img = img.permute(1,2,0).numpy()\n",
    "        img = cv2.cvtColor(img,cv2.COLOR_RGB2BGR)\n",
    "        for box ,id_ in zip(bboxes,ids):\n",
    "            x1 = int(box[0])\n",
    "            y1 = int(box[1])\n",
    "            x2 = int(box[2])\n",
    "            y2 = int(box[3])\n",
    "            cv2.rectangle(img,(x1,y1),(x2,y2),(0,0,255),thickness=2)\n",
    "            cv2.putText(img, text=str(id_), org=(x1 + 5, y1 + 5), fontFace=font, fontScale=1, \n",
    "                thickness=2, lineType=cv2.LINE_AA, color=(0, 255, 0))\n",
    "        cv2.imshow('test',img)\n",
    "        cv2.waitKey()"
   ]
  },
  {
   "cell_type": "code",
   "execution_count": null,
   "metadata": {},
   "outputs": [],
   "source": []
  }
 ]
}