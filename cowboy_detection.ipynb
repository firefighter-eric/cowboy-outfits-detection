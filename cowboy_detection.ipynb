{
 "metadata": {
  "language_info": {
   "codemirror_mode": {
    "name": "ipython",
    "version": 3
   },
   "file_extension": ".py",
   "mimetype": "text/x-python",
   "name": "python",
   "nbconvert_exporter": "python",
   "pygments_lexer": "ipython3",
   "version": "3.8.8"
  },
  "orig_nbformat": 4,
  "kernelspec": {
   "name": "python3",
   "display_name": "Python 3.8.8 64-bit ('tf24': conda)"
  },
  "interpreter": {
   "hash": "920cbf93e59d3f08062ffddba2de6fef403528da7bc8008b838aa14c8834cf55"
  }
 },
 "nbformat": 4,
 "nbformat_minor": 2,
 "cells": [
  {
   "cell_type": "code",
   "execution_count": 1,
   "metadata": {},
   "outputs": [],
   "source": [
    "import cv2\n",
    "import random\n",
    "import torch\n",
    "import torchvision\n",
    "\n",
    "from torch.utils.data import Dataset\n",
    "from torchvision import datasets\n",
    "from torchvision.transforms import ToTensor\n",
    "\n",
    "from torchvision.transforms import functional as F\n"
   ]
  },
  {
   "cell_type": "code",
   "execution_count": 2,
   "metadata": {},
   "outputs": [
    {
     "output_type": "stream",
     "name": "stdout",
     "text": [
      "loading annotations into memory...\nDone (t=0.04s)\ncreating index...\nindex created!\n"
     ]
    }
   ],
   "source": [
    "root_path = \"data/images\"\n",
    "ann_path = 'data/train.json'\n",
    "\n",
    "coco_data = datasets.CocoDetection(\n",
    "    root=root_path, annFile=ann_path, transform=ToTensor()\n",
    ")"
   ]
  },
  {
   "cell_type": "code",
   "execution_count": 3,
   "metadata": {},
   "outputs": [
    {
     "output_type": "stream",
     "name": "stdout",
     "text": [
      "Dataset CocoDetection\n    Number of datapoints: 3062\n    Root location: data/images\n    StandardTransform\nTransform: ToTensor()\n"
     ]
    }
   ],
   "source": [
    "print(coco_data)"
   ]
  },
  {
   "cell_type": "code",
   "execution_count": 4,
   "metadata": {},
   "outputs": [],
   "source": [
    "# 定义 coco collate_fn\n",
    "def collate_fn_coco(batch):\n",
    "    return tuple(zip(*batch))\n",
    " \n",
    "# 创建 Coco sampler\n",
    "sampler = torch.utils.data.RandomSampler(coco_data)\n",
    "batch_sampler = torch.utils.data.BatchSampler(sampler, 8, drop_last=True)\n",
    " \n",
    "# 创建 dataloader\n",
    "data_loader = torch.utils.data.DataLoader(\n",
    "        coco_data, batch_sampler=batch_sampler, num_workers=0,\n",
    "        collate_fn=collate_fn_coco)"
   ]
  },
  {
   "cell_type": "code",
   "execution_count": 10,
   "metadata": {
    "tags": []
   },
   "outputs": [
    {
     "output_type": "stream",
     "name": "stdout",
     "text": [
      "([{'id': 12891060, 'image_id': 15954567595197366460, 'freebase_id': '/m/025rp__', 'category_id': 318, 'iscrowd': False, 'bbox': [363.52, 162.08, 266.24, 169.77], 'area': 45199.36}], [{'id': 5584375, 'image_id': 6757203065782272858, 'freebase_id': '/m/032b3c', 'category_id': 588, 'iscrowd': False, 'bbox': [62.72, 497.28, 667.52, 526.72], 'area': 351595.86}], [{'id': 287733, 'image_id': 229162801412277864, 'freebase_id': '/m/032b3c', 'category_id': 588, 'iscrowd': False, 'bbox': [138.88, 156.8, 437.76, 610.56], 'area': 267278.75}, {'id': 287734, 'image_id': 229162801412277864, 'freebase_id': '/m/032b3c', 'category_id': 588, 'iscrowd': False, 'bbox': [455.68, 252.8, 439.68, 514.56], 'area': 226241.74}], [{'id': 10185619, 'image_id': 12548125454635180473, 'freebase_id': '/m/025rp__', 'category_id': 318, 'iscrowd': False, 'bbox': [261.12, 6.4, 230.4, 187.52], 'area': 43204.67}], [{'id': 2249334, 'image_id': 2587280580555081237, 'freebase_id': '/m/032b3c', 'category_id': 588, 'iscrowd': False, 'bbox': [104.32, 302.86, 141.44, 154.95], 'area': 21916.55}, {'id': 2249335, 'image_id': 2587280580555081237, 'freebase_id': '/m/032b3c', 'category_id': 588, 'iscrowd': False, 'bbox': [252.16, 265.72, 218.24, 256.76], 'area': 56035.56}, {'id': 2249336, 'image_id': 2587280580555081237, 'freebase_id': '/m/032b3c', 'category_id': 588, 'iscrowd': False, 'bbox': [494.72, 297.74, 151.68, 215.14], 'area': 32632.61}, {'id': 2249337, 'image_id': 2587280580555081237, 'freebase_id': '/m/032b3c', 'category_id': 588, 'iscrowd': False, 'bbox': [627.84, 249.08, 340.48, 430.28], 'area': 146502.5}], [{'id': 688701, 'image_id': 675155319521673280, 'freebase_id': '/m/032b3c', 'category_id': 588, 'iscrowd': False, 'bbox': [277.76, 238.83, 202.24, 207.46], 'area': 41956.27}, {'id': 688705, 'image_id': 675155319521673280, 'freebase_id': '/m/032b3c', 'category_id': 588, 'iscrowd': False, 'bbox': [647.68, 256.76, 158.72, 199.77], 'area': 31708.21}], [{'id': 2661497, 'image_id': 3096533552427827802, 'freebase_id': '/m/032b3c', 'category_id': 588, 'iscrowd': False, 'bbox': [240.64, 153.13, 197.12, 365.21], 'area': 71989.46}], [{'id': 2189321, 'image_id': 2510918332369308872, 'freebase_id': '/m/032b3c', 'category_id': 588, 'iscrowd': False, 'bbox': [100.98, 344.27, 366.93, 334.31], 'area': 122669.28}])\n",
      "([{'id': 14264188, 'image_id': 17949982673491140617, 'freebase_id': '/m/025rp__', 'category_id': 318, 'iscrowd': False, 'bbox': [143.36, 128.0, 281.6, 150.19], 'area': 42292.58}, {'id': 14264189, 'image_id': 17949982673491140617, 'freebase_id': '/m/025rp__', 'category_id': 318, 'iscrowd': False, 'bbox': [232.11, 462.51, 349.87, 264.53], 'area': 92551.37}], [{'id': 13658977, 'image_id': 17057268078381435636, 'freebase_id': '/m/017ftj', 'category_id': 1034, 'iscrowd': False, 'bbox': [265.6, 124.16, 130.56, 117.76], 'area': 15374.71}], [{'id': 9944056, 'image_id': 12247582859134110074, 'freebase_id': '/m/032b3c', 'category_id': 588, 'iscrowd': False, 'bbox': [116.48, 199.77, 296.32, 354.73], 'area': 105112.84}, {'id': 9944058, 'image_id': 12247582859134110074, 'freebase_id': '/m/032b3c', 'category_id': 588, 'iscrowd': False, 'bbox': [52.48, 407.87, 213.76, 271.49], 'area': 58033.12}, {'id': 9944059, 'image_id': 12247582859134110074, 'freebase_id': '/m/032b3c', 'category_id': 588, 'iscrowd': False, 'bbox': [461.44, 309.27, 195.84, 274.05], 'area': 53669.72}, {'id': 9944060, 'image_id': 12247582859134110074, 'freebase_id': '/m/032b3c', 'category_id': 588, 'iscrowd': False, 'bbox': [634.88, 217.7, 162.56, 363.05], 'area': 59017.51}, {'id': 9944061, 'image_id': 12247582859134110074, 'freebase_id': '/m/032b3c', 'category_id': 588, 'iscrowd': False, 'bbox': [707.2, 176.72, 273.92, 502.64], 'area': 137682.13}], [{'id': 14410248, 'image_id': 18157823016429584849, 'freebase_id': '/m/017ftj', 'category_id': 1034, 'iscrowd': False, 'bbox': [281.6, 273.92, 110.72, 27.52], 'area': 3046.99}], [{'id': 7191869, 'image_id': 8764695860020284048, 'freebase_id': '/m/032b3c', 'category_id': 588, 'iscrowd': False, 'bbox': [46.72, 337.92, 294.4, 414.08], 'area': 121905.23}], [{'id': 10726269, 'image_id': 13235455886528744002, 'freebase_id': '/m/017ftj', 'category_id': 1034, 'iscrowd': False, 'bbox': [366.08, 130.07, 233.6, 82.65], 'area': 19307.48}], [{'id': 1554648, 'image_id': 1718218075710688076, 'freebase_id': '/m/032b3c', 'category_id': 588, 'iscrowd': False, 'bbox': [78.4, 354.22, 753.6, 411.78], 'area': 310320.78}, {'id': 1554650, 'image_id': 1718218075710688076, 'freebase_id': '/m/017ftj', 'category_id': 1034, 'iscrowd': False, 'bbox': [344.0, 183.1, 218.4, 107.94], 'area': 23574.76}], [{'id': 12087591, 'image_id': 14945184585158658808, 'freebase_id': '/m/032b3c', 'category_id': 588, 'iscrowd': False, 'bbox': [319.36, 631.68, 115.2, 135.68], 'area': 15630.37}, {'id': 12087592, 'image_id': 14945184585158658808, 'freebase_id': '/m/032b3c', 'category_id': 588, 'iscrowd': False, 'bbox': [534.4, 604.8, 174.72, 162.56], 'area': 28402.53}, {'id': 12087593, 'image_id': 14945184585158658808, 'freebase_id': '/m/032b3c', 'category_id': 588, 'iscrowd': False, 'bbox': [890.24, 657.92, 133.12, 109.44], 'area': 14568.65}])\n",
      "([{'id': 6716750, 'image_id': 8167140063441259152, 'freebase_id': '/m/017ftj', 'category_id': 1034, 'iscrowd': False, 'bbox': [353.28, 152.96, 186.88, 90.88], 'area': 16983.61}, {'id': 6716751, 'image_id': 8167140063441259152, 'freebase_id': '/m/017ftj', 'category_id': 1034, 'iscrowd': False, 'bbox': [536.32, 44.16, 229.12, 103.04], 'area': 23608.58}], [{'id': 7567032, 'image_id': 9233322491381941211, 'freebase_id': '/m/025rp__', 'category_id': 318, 'iscrowd': False, 'bbox': [747.52, 105.08, 247.68, 178.12], 'area': 44116.32}], [{'id': 1092655, 'image_id': 1152400919288646414, 'freebase_id': '/m/032b3c', 'category_id': 588, 'iscrowd': False, 'bbox': [111.36, 171.41, 859.52, 513.59], 'area': 441441.22}], [{'id': 167255, 'image_id': 109127104396560597, 'freebase_id': '/m/017ftj', 'category_id': 1034, 'iscrowd': False, 'bbox': [0.0, 297.64, 82.56, 42.25], 'area': 3487.85}, {'id': 167256, 'image_id': 109127104396560597, 'freebase_id': '/m/017ftj', 'category_id': 1034, 'iscrowd': False, 'bbox': [466.56, 137.62, 117.12, 55.05], 'area': 6447.27}], [{'id': 5877034, 'image_id': 7124248788343262427, 'freebase_id': '/m/017ftj', 'category_id': 1034, 'iscrowd': False, 'bbox': [360.32, 267.82, 259.84, 128.78], 'area': 33462.99}], [{'id': 7447950, 'image_id': 9085281123096232074, 'freebase_id': '/m/032b3c', 'category_id': 588, 'iscrowd': False, 'bbox': [26.88, 361.73, 188.8, 236.24], 'area': 44602.81}, {'id': 7447953, 'image_id': 9085281123096232074, 'freebase_id': '/m/032b3c', 'category_id': 588, 'iscrowd': False, 'bbox': [254.08, 391.18, 65.92, 97.95], 'area': 6457.18}, {'id': 7447954, 'image_id': 9085281123096232074, 'freebase_id': '/m/032b3c', 'category_id': 588, 'iscrowd': False, 'bbox': [628.48, 385.42, 90.24, 103.72], 'area': 9359.37}], [{'id': 12597464, 'image_id': 15588681276876621630, 'freebase_id': '/m/032b3c', 'category_id': 588, 'iscrowd': False, 'bbox': [87.72, 257.92, 574.35, 732.16], 'area': 420516.42}], [{'id': 284044, 'image_id': 225196398715822739, 'freebase_id': '/m/025rp__', 'category_id': 318, 'iscrowd': False, 'bbox': [378.88, 268.71, 320.0, 299.42], 'area': 95812.82}, {'id': 284045, 'image_id': 225196398715822739, 'freebase_id': '/m/025rp__', 'category_id': 318, 'iscrowd': False, 'bbox': [552.96, 200.89, 469.76, 241.84], 'area': 113604.48}])\n"
     ]
    }
   ],
   "source": [
    "\n",
    " font = cv2.FONT_HERSHEY_SIMPLEX\n",
    "\n",
    "\n",
    "# 可视化\n",
    "for imgs,labels in data_loader:\n",
    "    print(labels)\n",
    "    for i in range(len(imgs)):\n",
    "        bboxes = []\n",
    "        ids = []\n",
    "        img = imgs[i]\n",
    "        labels_ = labels[i]\n",
    "        for label in labels_:\n",
    "            bboxes.append([label['bbox'][0],\n",
    "            label['bbox'][1],\n",
    "            label['bbox'][0] + label['bbox'][2],\n",
    "            label['bbox'][1] + label['bbox'][3]\n",
    "            ])\n",
    "            ids.append(label['category_id'])\n",
    " \n",
    "        img = img.permute(1,2,0).numpy()\n",
    "        img = cv2.cvtColor(img,cv2.COLOR_RGB2BGR)\n",
    "        for box ,id_ in zip(bboxes,ids):\n",
    "            x1 = int(box[0])\n",
    "            y1 = int(box[1])\n",
    "            x2 = int(box[2])\n",
    "            y2 = int(box[3])\n",
    "            cv2.rectangle(img,(x1,y1),(x2,y2),(0,0,255),thickness=2)\n",
    "            cv2.putText(img, text=str(id_), org=(x1 + 5, y1 + 5), fontFace=font, fontScale=1, \n",
    "                thickness=2, lineType=cv2.LINE_AA, color=(0, 255, 0))\n",
    "        cv2.imshow('test',img)\n",
    "        cv2.waitKey()"
   ]
  },
  {
   "cell_type": "code",
   "execution_count": null,
   "metadata": {},
   "outputs": [],
   "source": []
  }
 ]
}