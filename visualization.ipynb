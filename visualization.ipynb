{
 "metadata": {
  "language_info": {
   "codemirror_mode": {
    "name": "ipython",
    "version": 3
   },
   "file_extension": ".py",
   "mimetype": "text/x-python",
   "name": "python",
   "nbconvert_exporter": "python",
   "pygments_lexer": "ipython3",
   "version": "3.8.8"
  },
  "orig_nbformat": 4,
  "kernelspec": {
   "name": "python3",
   "language": "python",
   "display_name": "Python 3 (ipykernel)"
  },
  "interpreter": {
   "hash": "920cbf93e59d3f08062ffddba2de6fef403528da7bc8008b838aa14c8834cf55"
  }
 },
 "nbformat": 4,
 "nbformat_minor": 2,
 "cells": [
  {
   "cell_type": "code",
   "execution_count": null,
   "metadata": {
    "pycharm": {
     "is_executing": true
    }
   },
   "outputs": [],
   "source": [
    "import cv2\n",
    "import torch\n",
    "\n",
    "from torch.utils.data import Dataset\n",
    "from torchvision import datasets\n",
    "from torchvision.transforms import ToTensor\n"
   ]
  },
  {
   "cell_type": "code",
   "execution_count": null,
   "metadata": {
    "pycharm": {
     "is_executing": true
    }
   },
   "outputs": [],
   "source": [
    "root_path = \"data/images\"\n",
    "ann_path = 'data/train.json'\n",
    "\n",
    "coco_det = datasets.CocoDetection(\n",
    "    root=root_path, annFile=ann_path, transform=ToTensor()\n",
    ")"
   ]
  },
  {
   "cell_type": "code",
   "execution_count": null,
   "metadata": {
    "pycharm": {
     "is_executing": true
    }
   },
   "outputs": [],
   "source": [
    "print(coco_det)\n",
    "# next(iter(coco_det))\n"
   ]
  },
  {
   "cell_type": "code",
   "execution_count": null,
   "metadata": {
    "pycharm": {
     "is_executing": true
    }
   },
   "outputs": [],
   "source": [
    "# 定义 coco collate_fn\n",
    "def collate_fn_coco(batch):\n",
    "    return tuple(zip(*batch))\n",
    "\n",
    "\n",
    "# 创建 Coco sampler\n",
    "sampler = torch.utils.data.RandomSampler(coco_det)\n",
    "batch_sampler = torch.utils.data.BatchSampler(sampler, 8, drop_last=True)\n",
    "\n",
    "# 创建 dataloader\n",
    "data_loader = torch.utils.data.DataLoader(\n",
    "    coco_det, batch_sampler=batch_sampler, num_workers=0,\n",
    "    collate_fn=collate_fn_coco)"
   ]
  },
  {
   "cell_type": "code",
   "execution_count": null,
   "metadata": {
    "tags": [],
    "pycharm": {
     "is_executing": true
    }
   },
   "outputs": [],
   "source": [
    "\n",
    "font = cv2.FONT_HERSHEY_SIMPLEX\n",
    "\n",
    "# 可视化\n",
    "for imgs, labels in data_loader:\n",
    "    print(labels)\n",
    "    for i in range(len(imgs)):\n",
    "        bboxes = []\n",
    "        ids = []\n",
    "        img = imgs[i]\n",
    "        labels_ = labels[i]\n",
    "        for label in labels_:\n",
    "            bboxes.append([label['bbox'][0],\n",
    "                           label['bbox'][1],\n",
    "                           label['bbox'][0] + label['bbox'][2],\n",
    "                           label['bbox'][1] + label['bbox'][3]\n",
    "                           ])\n",
    "            ids.append(label['category_id'])\n",
    "\n",
    "        img = img.permute(1, 2, 0).numpy()\n",
    "        img = cv2.cvtColor(img, cv2.COLOR_RGB2BGR)\n",
    "        for box, id_ in zip(bboxes, ids):\n",
    "            x1 = int(box[0])\n",
    "            y1 = int(box[1])\n",
    "            x2 = int(box[2])\n",
    "            y2 = int(box[3])\n",
    "            cv2.rectangle(img, (x1, y1), (x2, y2), (0, 0, 255), thickness=2)\n",
    "            cv2.putText(img, text=str(id_), org=(x1 + 5, y1 + 5), fontFace=font, fontScale=1,\n",
    "                        thickness=2, lineType=cv2.LINE_AA, color=(0, 255, 0))\n",
    "        cv2.imshow('test', img)\n",
    "        cv2.waitKey()"
   ]
  },
  {
   "cell_type": "code",
   "execution_count": null,
   "metadata": {
    "pycharm": {
     "is_executing": true
    }
   },
   "outputs": [],
   "source": []
  }
 ]
}